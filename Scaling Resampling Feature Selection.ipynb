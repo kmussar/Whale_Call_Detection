{
 "cells": [
  {
   "cell_type": "markdown",
   "metadata": {},
   "source": [
    "## In this notebook, I select my features, scale them, and resample the data so that the classes are balanced. "
   ]
  },
  {
   "cell_type": "code",
   "execution_count": 1,
   "metadata": {},
   "outputs": [],
   "source": [
    "import pickle\n",
    "import pandas as pd\n",
    "import numpy as np\n",
    "import matplotlib.pyplot as plt\n",
    "import seaborn as sns\n",
    "from sklearn.model_selection import train_test_split\n",
    "%matplotlib inline\n",
    "from sklearn.pipeline import Pipeline\n",
    "from sklearn.preprocessing import StandardScaler\n",
    "from sklearn.linear_model import LogisticRegression\n",
    "from sklearn.neighbors import KNeighborsClassifier\n",
    "from sklearn.svm import SVC, LinearSVC\n",
    "from sklearn.tree import DecisionTreeClassifier\n",
    "from sklearn.ensemble import RandomForestClassifier,ExtraTreesClassifier\n",
    "from sklearn import metrics\n",
    "from sklearn.metrics import classification_report, confusion_matrix, accuracy_score\n",
    "from sklearn.datasets import make_classification\n",
    "from imblearn.over_sampling import RandomOverSampler\n",
    "from collections import Counter"
   ]
  },
  {
   "cell_type": "code",
   "execution_count": 2,
   "metadata": {
    "collapsed": true
   },
   "outputs": [
    {
     "data": {
      "text/html": [
       "<div>\n",
       "<style scoped>\n",
       "    .dataframe tbody tr th:only-of-type {\n",
       "        vertical-align: middle;\n",
       "    }\n",
       "\n",
       "    .dataframe tbody tr th {\n",
       "        vertical-align: top;\n",
       "    }\n",
       "\n",
       "    .dataframe thead th {\n",
       "        text-align: right;\n",
       "    }\n",
       "</style>\n",
       "<table border=\"1\" class=\"dataframe\">\n",
       "  <thead>\n",
       "    <tr style=\"text-align: right;\">\n",
       "      <th></th>\n",
       "      <th>centroid</th>\n",
       "      <th>chroma</th>\n",
       "      <th>chroma_cens</th>\n",
       "      <th>chroma_cqt</th>\n",
       "      <th>contrast</th>\n",
       "      <th>file_number</th>\n",
       "      <th>flatness</th>\n",
       "      <th>index</th>\n",
       "      <th>mean_centroid</th>\n",
       "      <th>mean_chroma</th>\n",
       "      <th>...</th>\n",
       "      <th>pctl_50_spec_contrast</th>\n",
       "      <th>pctl_75_spec_contrast</th>\n",
       "      <th>stdev_tonnetz</th>\n",
       "      <th>pctl_25_tonnetz</th>\n",
       "      <th>pctl_50_tonnetz</th>\n",
       "      <th>pctl_75_tonnetz</th>\n",
       "      <th>stdev_zero_cr</th>\n",
       "      <th>pctl_25_zero_cr</th>\n",
       "      <th>pctl_50_zero_cr</th>\n",
       "      <th>pctl_75_zero_cr</th>\n",
       "    </tr>\n",
       "  </thead>\n",
       "  <tbody>\n",
       "    <tr>\n",
       "      <th>0</th>\n",
       "      <td>[504.48257148, 486.40693278, 470.00318888, 458...</td>\n",
       "      <td>[0.54581436, 0.60204302, 0.75422708, 0.8372386...</td>\n",
       "      <td>[0.23143955, 0.23162181, 0.23182812, 0.2789998...</td>\n",
       "      <td>[0.55334989, 0.73690282, 0.70845463, 0.7077047...</td>\n",
       "      <td>[19.62451933, 11.26503332, 12.72140427, 56.165...</td>\n",
       "      <td>1</td>\n",
       "      <td>[1.32692594e-06, 3.85900563e-07, 8.42322656e-0...</td>\n",
       "      <td>train1.wav</td>\n",
       "      <td>443.787989</td>\n",
       "      <td>0.685376</td>\n",
       "      <td>...</td>\n",
       "      <td>16.262727</td>\n",
       "      <td>20.029834</td>\n",
       "      <td>0.024888</td>\n",
       "      <td>0.005155</td>\n",
       "      <td>0.019143</td>\n",
       "      <td>0.041264</td>\n",
       "      <td>0.004743</td>\n",
       "      <td>0.039795</td>\n",
       "      <td>0.042480</td>\n",
       "      <td>0.045410</td>\n",
       "    </tr>\n",
       "    <tr>\n",
       "      <th>1</th>\n",
       "      <td>[577.97243044, 524.01977987, 427.78777341, 420...</td>\n",
       "      <td>[0.6937604, 0.6619282, 0.67327483, 0.83409719,...</td>\n",
       "      <td>[0.21704897, 0.21644774, 0.21590343, 0.2980798...</td>\n",
       "      <td>[0.91323336, 0.72939455, 0.66281015, 1.0, 0.99...</td>\n",
       "      <td>[16.21541347, 10.36397665, 13.25033723, 54.129...</td>\n",
       "      <td>2</td>\n",
       "      <td>[6.5010463e-05, 2.9992112e-05, 4.2579142e-08, ...</td>\n",
       "      <td>train2.wav</td>\n",
       "      <td>463.286988</td>\n",
       "      <td>0.706040</td>\n",
       "      <td>...</td>\n",
       "      <td>15.050572</td>\n",
       "      <td>19.159550</td>\n",
       "      <td>0.008353</td>\n",
       "      <td>-0.000481</td>\n",
       "      <td>0.003629</td>\n",
       "      <td>0.007551</td>\n",
       "      <td>0.004022</td>\n",
       "      <td>0.040771</td>\n",
       "      <td>0.041992</td>\n",
       "      <td>0.043945</td>\n",
       "    </tr>\n",
       "    <tr>\n",
       "      <th>2</th>\n",
       "      <td>[559.55729635, 528.68537997, 493.25946834, 479...</td>\n",
       "      <td>[0.67377754, 0.67545543, 0.76603449, 0.7567035...</td>\n",
       "      <td>[0.36211961, 0.3571492, 0.35205534, 0.28488815...</td>\n",
       "      <td>[0.57887618, 0.8278652, 0.80876065, 0.44839986...</td>\n",
       "      <td>[19.49029831, 10.76560549, 12.28624703, 54.706...</td>\n",
       "      <td>3</td>\n",
       "      <td>[5.3348005e-05, 1.6811937e-05, 3.5331706e-08, ...</td>\n",
       "      <td>train3.wav</td>\n",
       "      <td>468.395865</td>\n",
       "      <td>0.727035</td>\n",
       "      <td>...</td>\n",
       "      <td>15.721419</td>\n",
       "      <td>19.831365</td>\n",
       "      <td>0.009168</td>\n",
       "      <td>-0.003178</td>\n",
       "      <td>0.002421</td>\n",
       "      <td>0.009207</td>\n",
       "      <td>0.004212</td>\n",
       "      <td>0.041992</td>\n",
       "      <td>0.043457</td>\n",
       "      <td>0.045410</td>\n",
       "    </tr>\n",
       "    <tr>\n",
       "      <th>3</th>\n",
       "      <td>[476.40339026, 466.14735071, 486.65554654, 493...</td>\n",
       "      <td>[0.71536, 0.68535892, 0.68436785, 0.73879001, ...</td>\n",
       "      <td>[0.38081637, 0.37959923, 0.3784084, 0.28371449...</td>\n",
       "      <td>[0.71287569, 0.91182481, 0.81314382, 0.8411274...</td>\n",
       "      <td>[21.99398376, 11.21640425, 13.21343611, 56.224...</td>\n",
       "      <td>4</td>\n",
       "      <td>[3.93400853e-07, 1.46186906e-07, 3.61700003e-0...</td>\n",
       "      <td>train4.wav</td>\n",
       "      <td>456.602276</td>\n",
       "      <td>0.713940</td>\n",
       "      <td>...</td>\n",
       "      <td>15.965496</td>\n",
       "      <td>20.192855</td>\n",
       "      <td>0.008188</td>\n",
       "      <td>0.003535</td>\n",
       "      <td>0.005865</td>\n",
       "      <td>0.011568</td>\n",
       "      <td>0.005485</td>\n",
       "      <td>0.035645</td>\n",
       "      <td>0.041016</td>\n",
       "      <td>0.044678</td>\n",
       "    </tr>\n",
       "    <tr>\n",
       "      <th>4</th>\n",
       "      <td>[549.73110503, 506.98113396, 473.99013424, 473...</td>\n",
       "      <td>[0.62032704, 0.61695566, 0.67535189, 0.6934418...</td>\n",
       "      <td>[0.29312185, 0.29195579, 0.2914121, 0.29096149...</td>\n",
       "      <td>[0.43504997, 0.84417333, 0.96267805, 0.2019479...</td>\n",
       "      <td>[21.30596447, 10.20325473, 12.75112812, 55.260...</td>\n",
       "      <td>5</td>\n",
       "      <td>[3.01305136e-05, 8.84687415e-06, 1.99340775e-0...</td>\n",
       "      <td>train5.wav</td>\n",
       "      <td>471.288952</td>\n",
       "      <td>0.695250</td>\n",
       "      <td>...</td>\n",
       "      <td>15.684625</td>\n",
       "      <td>19.965120</td>\n",
       "      <td>0.008685</td>\n",
       "      <td>-0.001283</td>\n",
       "      <td>0.002361</td>\n",
       "      <td>0.012658</td>\n",
       "      <td>0.006112</td>\n",
       "      <td>0.040771</td>\n",
       "      <td>0.043945</td>\n",
       "      <td>0.047363</td>\n",
       "    </tr>\n",
       "  </tbody>\n",
       "</table>\n",
       "<p>5 rows × 87 columns</p>\n",
       "</div>"
      ],
      "text/plain": [
       "                                            centroid  \\\n",
       "0  [504.48257148, 486.40693278, 470.00318888, 458...   \n",
       "1  [577.97243044, 524.01977987, 427.78777341, 420...   \n",
       "2  [559.55729635, 528.68537997, 493.25946834, 479...   \n",
       "3  [476.40339026, 466.14735071, 486.65554654, 493...   \n",
       "4  [549.73110503, 506.98113396, 473.99013424, 473...   \n",
       "\n",
       "                                              chroma  \\\n",
       "0  [0.54581436, 0.60204302, 0.75422708, 0.8372386...   \n",
       "1  [0.6937604, 0.6619282, 0.67327483, 0.83409719,...   \n",
       "2  [0.67377754, 0.67545543, 0.76603449, 0.7567035...   \n",
       "3  [0.71536, 0.68535892, 0.68436785, 0.73879001, ...   \n",
       "4  [0.62032704, 0.61695566, 0.67535189, 0.6934418...   \n",
       "\n",
       "                                         chroma_cens  \\\n",
       "0  [0.23143955, 0.23162181, 0.23182812, 0.2789998...   \n",
       "1  [0.21704897, 0.21644774, 0.21590343, 0.2980798...   \n",
       "2  [0.36211961, 0.3571492, 0.35205534, 0.28488815...   \n",
       "3  [0.38081637, 0.37959923, 0.3784084, 0.28371449...   \n",
       "4  [0.29312185, 0.29195579, 0.2914121, 0.29096149...   \n",
       "\n",
       "                                          chroma_cqt  \\\n",
       "0  [0.55334989, 0.73690282, 0.70845463, 0.7077047...   \n",
       "1  [0.91323336, 0.72939455, 0.66281015, 1.0, 0.99...   \n",
       "2  [0.57887618, 0.8278652, 0.80876065, 0.44839986...   \n",
       "3  [0.71287569, 0.91182481, 0.81314382, 0.8411274...   \n",
       "4  [0.43504997, 0.84417333, 0.96267805, 0.2019479...   \n",
       "\n",
       "                                            contrast  file_number  \\\n",
       "0  [19.62451933, 11.26503332, 12.72140427, 56.165...            1   \n",
       "1  [16.21541347, 10.36397665, 13.25033723, 54.129...            2   \n",
       "2  [19.49029831, 10.76560549, 12.28624703, 54.706...            3   \n",
       "3  [21.99398376, 11.21640425, 13.21343611, 56.224...            4   \n",
       "4  [21.30596447, 10.20325473, 12.75112812, 55.260...            5   \n",
       "\n",
       "                                            flatness       index  \\\n",
       "0  [1.32692594e-06, 3.85900563e-07, 8.42322656e-0...  train1.wav   \n",
       "1  [6.5010463e-05, 2.9992112e-05, 4.2579142e-08, ...  train2.wav   \n",
       "2  [5.3348005e-05, 1.6811937e-05, 3.5331706e-08, ...  train3.wav   \n",
       "3  [3.93400853e-07, 1.46186906e-07, 3.61700003e-0...  train4.wav   \n",
       "4  [3.01305136e-05, 8.84687415e-06, 1.99340775e-0...  train5.wav   \n",
       "\n",
       "   mean_centroid  mean_chroma  ...  pctl_50_spec_contrast  \\\n",
       "0     443.787989     0.685376  ...              16.262727   \n",
       "1     463.286988     0.706040  ...              15.050572   \n",
       "2     468.395865     0.727035  ...              15.721419   \n",
       "3     456.602276     0.713940  ...              15.965496   \n",
       "4     471.288952     0.695250  ...              15.684625   \n",
       "\n",
       "   pctl_75_spec_contrast  stdev_tonnetz  pctl_25_tonnetz  pctl_50_tonnetz  \\\n",
       "0              20.029834       0.024888         0.005155         0.019143   \n",
       "1              19.159550       0.008353        -0.000481         0.003629   \n",
       "2              19.831365       0.009168        -0.003178         0.002421   \n",
       "3              20.192855       0.008188         0.003535         0.005865   \n",
       "4              19.965120       0.008685        -0.001283         0.002361   \n",
       "\n",
       "   pctl_75_tonnetz  stdev_zero_cr  pctl_25_zero_cr  pctl_50_zero_cr  \\\n",
       "0         0.041264       0.004743         0.039795         0.042480   \n",
       "1         0.007551       0.004022         0.040771         0.041992   \n",
       "2         0.009207       0.004212         0.041992         0.043457   \n",
       "3         0.011568       0.005485         0.035645         0.041016   \n",
       "4         0.012658       0.006112         0.040771         0.043945   \n",
       "\n",
       "   pctl_75_zero_cr  \n",
       "0         0.045410  \n",
       "1         0.043945  \n",
       "2         0.045410  \n",
       "3         0.044678  \n",
       "4         0.047363  \n",
       "\n",
       "[5 rows x 87 columns]"
      ]
     },
     "execution_count": 2,
     "metadata": {},
     "output_type": "execute_result"
    }
   ],
   "source": [
    "# Read Data\n",
    "with open('all_engineered_labeled_data.pickle', 'rb') as read_file:\n",
    "    df = pickle.load(read_file)\n",
    "    \n",
    "df.head()"
   ]
  },
  {
   "cell_type": "code",
   "execution_count": 3,
   "metadata": {},
   "outputs": [],
   "source": [
    "# remove unneccesary columns - these are arrays\n",
    "X = df.drop(columns=['label','centroid','chroma', 'chroma_cens', 'chroma_cqt', 'contrast','file_number', 'flatness', 'index','mel', 'mfccs','rmse', 'rolloff', 'spec_bw', 'spec_contrast', 'tonnetz', 'zero_cr'])\n",
    "y = df.label"
   ]
  },
  {
   "cell_type": "markdown",
   "metadata": {},
   "source": [
    "### Hold out 20% of data as pure test set. Stratify to maintain % of each class in each split."
   ]
  },
  {
   "cell_type": "code",
   "execution_count": 4,
   "metadata": {},
   "outputs": [],
   "source": [
    "X_trainVal, X_test, y_trainVal, y_test = train_test_split(X, y, test_size=0.20, random_state=101,stratify=y)"
   ]
  },
  {
   "cell_type": "markdown",
   "metadata": {},
   "source": [
    "### Set up validation set"
   ]
  },
  {
   "cell_type": "code",
   "execution_count": 5,
   "metadata": {},
   "outputs": [],
   "source": [
    "X_train, X_val, y_train, y_val = train_test_split(X_trainVal, y_trainVal, test_size=0.20, random_state=101,stratify=y_trainVal)"
   ]
  },
  {
   "cell_type": "markdown",
   "metadata": {},
   "source": [
    "# Pickle test and trainVal sets"
   ]
  },
  {
   "cell_type": "code",
   "execution_count": null,
   "metadata": {},
   "outputs": [],
   "source": [
    "with open('X_test', 'wb') as to_write:\n",
    "    pickle.dump(X_test, to_write) \n",
    "with open('y_test', 'wb') as to_write:\n",
    "    pickle.dump(y_test, to_write) \n",
    "with open('X_trainVal', 'wb') as to_write:\n",
    "    pickle.dump(X_trainVal, to_write) \n",
    "with open('y_trainVal', 'wb') as to_write:\n",
    "    pickle.dump(y_trainVal, to_write) "
   ]
  },
  {
   "cell_type": "code",
   "execution_count": 4,
   "metadata": {},
   "outputs": [],
   "source": [
    "X_train, X_val, y_train, y_val = train_test_split(X_trainVal, y_trainVal, test_size=0.20, random_state=101,stratify=y_trainVal)"
   ]
  },
  {
   "cell_type": "markdown",
   "metadata": {},
   "source": [
    "# Selecting Features"
   ]
  },
  {
   "cell_type": "code",
   "execution_count": 3,
   "metadata": {},
   "outputs": [
    {
     "ename": "NameError",
     "evalue": "name 'X_train' is not defined",
     "output_type": "error",
     "traceback": [
      "\u001b[0;31m---------------------------------------------------------------------------\u001b[0m",
      "\u001b[0;31mNameError\u001b[0m                                 Traceback (most recent call last)",
      "\u001b[0;32m<ipython-input-3-d45aff4e8984>\u001b[0m in \u001b[0;36m<module>\u001b[0;34m()\u001b[0m\n\u001b[1;32m      1\u001b[0m \u001b[0mextra_trees\u001b[0m \u001b[0;34m=\u001b[0m \u001b[0mExtraTreesClassifier\u001b[0m\u001b[0;34m(\u001b[0m\u001b[0;34m)\u001b[0m\u001b[0;34m\u001b[0m\u001b[0m\n\u001b[0;32m----> 2\u001b[0;31m \u001b[0mextra_trees\u001b[0m\u001b[0;34m.\u001b[0m\u001b[0mfit\u001b[0m\u001b[0;34m(\u001b[0m\u001b[0mX_train\u001b[0m\u001b[0;34m,\u001b[0m\u001b[0my_train\u001b[0m\u001b[0;34m)\u001b[0m\u001b[0;34m\u001b[0m\u001b[0m\n\u001b[0m\u001b[1;32m      3\u001b[0m \u001b[0mimportances\u001b[0m \u001b[0;34m=\u001b[0m \u001b[0mextra_trees\u001b[0m\u001b[0;34m.\u001b[0m\u001b[0mfeature_importances_\u001b[0m\u001b[0;34m\u001b[0m\u001b[0m\n\u001b[1;32m      4\u001b[0m \u001b[0mprint\u001b[0m\u001b[0;34m(\u001b[0m\u001b[0mimportances\u001b[0m\u001b[0;34m)\u001b[0m\u001b[0;34m\u001b[0m\u001b[0m\n",
      "\u001b[0;31mNameError\u001b[0m: name 'X_train' is not defined"
     ]
    }
   ],
   "source": [
    "extra_trees = ExtraTreesClassifier()\n",
    "extra_trees.fit(X_train,y_train)\n",
    "importances = extra_trees.feature_importances_\n",
    "print(importances)"
   ]
  },
  {
   "cell_type": "code",
   "execution_count": 6,
   "metadata": {},
   "outputs": [
    {
     "name": "stdout",
     "output_type": "stream",
     "text": [
      "0.014285714285714285\n",
      "0.10734239105571977\n",
      "0.002704274908297886\n",
      "35\n"
     ]
    }
   ],
   "source": [
    "print(np.mean(importances))\n",
    "print(np.max(importances))\n",
    "print(np.min(importances))\n",
    "print(np.argmin(importances))"
   ]
  },
  {
   "cell_type": "code",
   "execution_count": 7,
   "metadata": {
    "collapsed": true
   },
   "outputs": [
    {
     "name": "stdout",
     "output_type": "stream",
     "text": [
      "{'mean_centroid': 0.00956499966950861, 'mean_chroma': 0.011507438699748814, 'mean_chroma_cens': 0.014182609841153581, 'mean_chroma_cqt': 0.0317800246377064, 'mean_contrast': 0.017123813977686527, 'mean_flatness': 0.009089014187211902, 'mean_mel': 0.009940266853127391, 'mean_mfccs': 0.10734239105571977, 'mean_rmse': 0.01750655594395714, 'mean_rolloff': 0.009023033349186934, 'mean_spec_bw': 0.01025448584029864, 'mean_spec_contrast': 0.015208073920625117, 'mean_tonnetz': 0.009311237906190229, 'mean_zero_cr': 0.010652348188579621, 'stdev_centroid': 0.015621446356337785, 'pctl_25_centroid': 0.011553226897678858, 'pctl_50_centroid': 0.011631115775086206, 'pctl_75_centroid': 0.010586989657613604, 'stdev_chroma': 0.011715485436876864, 'pctl_25_chroma': 0.014344300482393916, 'pctl_50_chroma': 0.010436373417608499, 'pctl_75_chroma': 0.008988800138444799, 'stdev_chroma_cens': 0.01091426664353152, 'pctl_25_chroma_cens': 0.010906567282768023, 'pctl_50_chroma_cens': 0.010196581632246238, 'pctl_75_chroma_cens': 0.01054367783970623, 'stdev_chroma_cqt': 0.010269584087067886, 'pctl_25_chroma_cqt': 0.009245130019796103, 'pctl_50_chroma_cqt': 0.009335393235087563, 'pctl_75_chroma_cqt': 0.009333108142340422, 'stdev_contrast': 0.011349467554124915, 'pctl_25_contrast': 0.013840999074074276, 'pctl_50_contrast': 0.011434051991942643, 'pctl_75_contrast': 0.026951736257779153, 'stdev_flatness': 0.008751355744095742, 'pctl_25_flatness': 0.002704274908297886, 'pctl_50_flatness': 0.0032089028477525552, 'pctl_75_flatness': 0.00424899804932816, 'stdev_mel': 0.00929036315301593, 'pctl_25_mel': 0.004062997970354831, 'pctl_50_mel': 0.004900920686367651, 'pctl_75_mel': 0.009634537063685045, 'stdev_mfccs': 0.02666072477739893, 'pctl_25_mfccs': 0.06141605883539454, 'pctl_50_mfccs': 0.036160350387525166, 'pctl_75_mfccs': 0.01684652218392083, 'stdev_rmse': 0.02805789827370427, 'pctl_25_rmse': 0.00917009033389174, 'pctl_50_rmse': 0.010433882018254206, 'pctl_75_rmse': 0.018206280214513124, 'stdev_rolloff': 0.016538026559463966, 'pctl_25_rolloff': 0.009176847321636627, 'pctl_50_rolloff': 0.008843684663784327, 'pctl_75_rolloff': 0.008902561069988747, 'stdev_spec_bw': 0.008585283051222855, 'pctl_25_spec_bw': 0.009836210259518975, 'pctl_50_spec_bw': 0.013866774523265171, 'pctl_75_spec_bw': 0.010849865986988788, 'stdev_spec_contrast': 0.009784137461302717, 'pctl_25_spec_contrast': 0.017370514876650575, 'pctl_50_spec_contrast': 0.013930132466112521, 'pctl_75_spec_contrast': 0.011399722761933483, 'stdev_tonnetz': 0.010627788138315771, 'pctl_25_tonnetz': 0.009735517934664446, 'pctl_50_tonnetz': 0.010872132697303579, 'pctl_75_tonnetz': 0.01006761054799642, 'stdev_zero_cr': 0.012245351170724984, 'pctl_25_zero_cr': 0.011140396754854495, 'pctl_50_zero_cr': 0.011076327159111127, 'pctl_75_zero_cr': 0.009712361154453668}\n"
     ]
    }
   ],
   "source": [
    "importances = dict(zip(X_train.columns,importances))\n",
    "print(importances)"
   ]
  },
  {
   "cell_type": "code",
   "execution_count": 8,
   "metadata": {},
   "outputs": [
    {
     "name": "stdout",
     "output_type": "stream",
     "text": [
      "mean_chroma_cens\n",
      "mean_chroma_cqt\n",
      "mean_contrast\n",
      "mean_mfccs\n",
      "mean_rmse\n",
      "mean_spec_contrast\n",
      "stdev_centroid\n",
      "pctl_25_chroma\n",
      "pctl_75_contrast\n",
      "stdev_mfccs\n",
      "pctl_25_mfccs\n",
      "pctl_50_mfccs\n",
      "pctl_75_mfccs\n",
      "stdev_rmse\n",
      "pctl_75_rmse\n",
      "stdev_rolloff\n",
      "pctl_25_spec_contrast\n"
     ]
    }
   ],
   "source": [
    "for i in importances: \n",
    "    if importances[i] > 0.014:\n",
    "        print(i)"
   ]
  },
  {
   "cell_type": "code",
   "execution_count": 4,
   "metadata": {},
   "outputs": [],
   "source": [
    "# Try with subset of features with greatest importance. \n",
    "X2 = df[['mean_chroma_cqt','mean_contrast','mean_mfccs','mean_spec_bw','mean_spec_contrast','stdev_centroid','pctl_75_contrast','stdev_mel','stdev_mfccs','pctl_25_mfccs','pctl_50_mfccs','pctl_75_mfccs','stdev_rmse','pctl_25_rmse','pctl_50_rmse','pctl_50_spec_bw','pctl_50_spec_contrast','pctl_75_spec_contrast','stdev_tonnetz','pctl_25_zero_cr']]\n",
    "y2 = df.label\n",
    "\n",
    "X2_trainVal, X2_test, y2_trainVal, y2_test = train_test_split(X2, y2, test_size=0.20, random_state=101,stratify=y2)\n",
    "X2_train, X2_val, y2_train, y2_val = train_test_split(X2_trainVal, y2_trainVal, test_size=0.20, random_state=101,stratify=y2_trainVal)\n",
    "\n",
    "# Try with a different subset of features\n",
    "X3 = df[['mean_chroma_cens','mean_chroma_cqt','mean_contrast','mean_mfccs','mean_rmse','mean_spec_contrast','stdev_centroid','pctl_25_chroma','pctl_75_contrast','stdev_mfccs','pctl_25_mfccs','pctl_50_mfccs','pctl_75_mfccs','stdev_rmse','pctl_75_rmse','stdev_rolloff','pctl_25_spec_contrast']]\n",
    "y3 = df.label\n",
    "\n",
    "X3_trainVal, X3_test, y3_trainVal, y3_test = train_test_split(X3, y3, test_size=0.20, random_state=101,stratify=y3)\n",
    "X3_train, X3_val, y3_train, y3_val = train_test_split(X3_trainVal, y3_trainVal, test_size=0.20, random_state=101,stratify=y3_trainVal)\n"
   ]
  },
  {
   "cell_type": "code",
   "execution_count": 55,
   "metadata": {
    "scrolled": true
   },
   "outputs": [
    {
     "name": "stderr",
     "output_type": "stream",
     "text": [
      "/home/kmussar/anaconda3/lib/python3.6/site-packages/sklearn/linear_model/logistic.py:433: FutureWarning: Default solver will be changed to 'lbfgs' in 0.22. Specify a solver to silence this warning.\n",
      "  FutureWarning)\n"
     ]
    },
    {
     "name": "stdout",
     "output_type": "stream",
     "text": [
      "              precision    recall  f1-score   support\n",
      "\n",
      "           0       0.87      0.90      0.88      3676\n",
      "           1       0.63      0.55      0.59      1124\n",
      "\n",
      "   micro avg       0.82      0.82      0.82      4800\n",
      "   macro avg       0.75      0.73      0.74      4800\n",
      "weighted avg       0.81      0.82      0.82      4800\n",
      "\n",
      "[[3309  367]\n",
      " [ 501  623]]\n"
     ]
    }
   ],
   "source": [
    "logmodel2 = LogisticRegression()\n",
    "logmodel2.fit(X2_train,y2_train)\n",
    "log_predictions2 = logmodel2.predict(X2_val)\n",
    "print(classification_report(y2_val,log_predictions2))\n",
    "print(confusion_matrix(y2_val,log_predictions2))"
   ]
  },
  {
   "cell_type": "markdown",
   "metadata": {},
   "source": [
    "# Use pipeline models to identify which subset of features performs best"
   ]
  },
  {
   "cell_type": "code",
   "execution_count": null,
   "metadata": {},
   "outputs": [
    {
     "name": "stderr",
     "output_type": "stream",
     "text": [
      "/home/kmussar/anaconda3/lib/python3.6/site-packages/sklearn/linear_model/logistic.py:433: FutureWarning: Default solver will be changed to 'lbfgs' in 0.22. Specify a solver to silence this warning.\n",
      "  FutureWarning)\n"
     ]
    },
    {
     "name": "stdout",
     "output_type": "stream",
     "text": [
      "[0 0 0 ... 0 0 0]\n",
      "              precision    recall  f1-score   support\n",
      "\n",
      "           0       0.87      0.91      0.89      3676\n",
      "           1       0.65      0.56      0.60      1124\n",
      "\n",
      "   micro avg       0.82      0.82      0.82      4800\n",
      "   macro avg       0.76      0.73      0.74      4800\n",
      "weighted avg       0.82      0.82      0.82      4800\n",
      "\n",
      "[[3332  344]\n",
      " [ 496  628]]\n",
      "[0 1 1 ... 0 0 0]\n",
      "              precision    recall  f1-score   support\n",
      "\n",
      "           0       0.88      0.89      0.89      3676\n",
      "           1       0.64      0.61      0.63      1124\n",
      "\n",
      "   micro avg       0.83      0.83      0.83      4800\n",
      "   macro avg       0.76      0.75      0.76      4800\n",
      "weighted avg       0.83      0.83      0.83      4800\n",
      "\n",
      "[[3288  388]\n",
      " [ 435  689]]\n",
      "[0 1 1 ... 0 0 0]\n",
      "              precision    recall  f1-score   support\n",
      "\n",
      "           0       0.88      0.93      0.90      3676\n",
      "           1       0.71      0.58      0.64      1124\n",
      "\n",
      "   micro avg       0.85      0.85      0.85      4800\n",
      "   macro avg       0.79      0.75      0.77      4800\n",
      "weighted avg       0.84      0.85      0.84      4800\n",
      "\n",
      "[[3404  272]\n",
      " [ 469  655]]\n"
     ]
    }
   ],
   "source": [
    "pipe_lr = Pipeline([('scl', StandardScaler()),\n",
    "                    ('clf', LogisticRegression(random_state=42))])\n",
    "\n",
    "pipe_knn = Pipeline([('scl', StandardScaler()),\n",
    "                    ('clf', KNeighborsClassifier(n_neighbors=5))])\n",
    "\n",
    "pipe_rf = Pipeline([('scl', StandardScaler()),\n",
    "                    ('clf', RandomForestClassifier(n_estimators=100))])\n",
    "\n",
    "pipe_svm = Pipeline([('scl', StandardScaler()),\n",
    "                    ('clf', SVC(kernel=\"linear\"))])\n",
    "\n",
    "\n",
    "pipelines = [pipe_lr, pipe_knn, pipe_rf, pipe_svm]\n",
    "\n",
    "for pipe in pipelines:\n",
    "    pipe.fit(X2_train, y2_train)\n",
    "    prediction_name = (str(pipe) + \"_predictions\")\n",
    "    prediction_name = pipe.predict(X2_val)\n",
    "    print(prediction_name)\n",
    "    print(classification_report(y2_val,prediction_name))\n",
    "    print(confusion_matrix(y2_val,prediction_name))"
   ]
  },
  {
   "cell_type": "code",
   "execution_count": 5,
   "metadata": {},
   "outputs": [
    {
     "name": "stderr",
     "output_type": "stream",
     "text": [
      "/home/kmussar/anaconda3/lib/python3.6/site-packages/sklearn/linear_model/logistic.py:433: FutureWarning: Default solver will be changed to 'lbfgs' in 0.22. Specify a solver to silence this warning.\n",
      "  FutureWarning)\n"
     ]
    },
    {
     "name": "stdout",
     "output_type": "stream",
     "text": [
      "[0 0 1 ... 0 0 0]\n",
      "              precision    recall  f1-score   support\n",
      "\n",
      "           0       0.87      0.90      0.89      3676\n",
      "           1       0.64      0.57      0.61      1124\n",
      "\n",
      "   micro avg       0.82      0.82      0.82      4800\n",
      "   macro avg       0.76      0.74      0.75      4800\n",
      "weighted avg       0.82      0.82      0.82      4800\n",
      "\n",
      "[[3313  363]\n",
      " [ 479  645]]\n",
      "[0 0 1 ... 0 0 0]\n",
      "              precision    recall  f1-score   support\n",
      "\n",
      "           0       0.88      0.90      0.89      3676\n",
      "           1       0.64      0.60      0.62      1124\n",
      "\n",
      "   micro avg       0.83      0.83      0.83      4800\n",
      "   macro avg       0.76      0.75      0.75      4800\n",
      "weighted avg       0.82      0.83      0.83      4800\n",
      "\n",
      "[[3304  372]\n",
      " [ 452  672]]\n",
      "[0 0 1 ... 0 0 0]\n",
      "              precision    recall  f1-score   support\n",
      "\n",
      "           0       0.88      0.92      0.90      3676\n",
      "           1       0.70      0.58      0.63      1124\n",
      "\n",
      "   micro avg       0.84      0.84      0.84      4800\n",
      "   macro avg       0.79      0.75      0.77      4800\n",
      "weighted avg       0.84      0.84      0.84      4800\n",
      "\n",
      "[[3391  285]\n",
      " [ 472  652]]\n",
      "[0 0 1 ... 0 0 0]\n",
      "              precision    recall  f1-score   support\n",
      "\n",
      "           0       0.87      0.90      0.89      3676\n",
      "           1       0.64      0.58      0.60      1124\n",
      "\n",
      "   micro avg       0.82      0.82      0.82      4800\n",
      "   macro avg       0.76      0.74      0.75      4800\n",
      "weighted avg       0.82      0.82      0.82      4800\n",
      "\n",
      "[[3307  369]\n",
      " [ 477  647]]\n"
     ]
    }
   ],
   "source": [
    "#X3 \n",
    "\n",
    "pipe_lr = Pipeline([('scl', StandardScaler()),\n",
    "                    ('clf', LogisticRegression(random_state=42))])\n",
    "\n",
    "pipe_knn = Pipeline([('scl', StandardScaler()),\n",
    "                    ('clf', KNeighborsClassifier(n_neighbors=5))])\n",
    "\n",
    "pipe_rf = Pipeline([('scl', StandardScaler()),\n",
    "                    ('clf', RandomForestClassifier(n_estimators=100))])\n",
    "\n",
    "pipe_svm = Pipeline([('scl', StandardScaler()),\n",
    "                    ('clf', SVC(kernel=\"linear\"))])\n",
    "\n",
    "\n",
    "pipelines = [pipe_lr, pipe_knn, pipe_rf, pipe_svm]\n",
    "\n",
    "for pipe in pipelines:\n",
    "    pipe.fit(X3_train, y3_train)\n",
    "    prediction_name = (str(pipe) + \"_predictions\")\n",
    "    prediction_name = pipe.predict(X3_val)\n",
    "    print(prediction_name)\n",
    "    print(classification_report(y3_val,prediction_name))\n",
    "    print(confusion_matrix(y3_val,prediction_name))"
   ]
  },
  {
   "cell_type": "markdown",
   "metadata": {},
   "source": [
    "Note, performed worse. Go with X2 subset"
   ]
  },
  {
   "cell_type": "markdown",
   "metadata": {},
   "source": [
    "# Resampling"
   ]
  },
  {
   "cell_type": "code",
   "execution_count": 20,
   "metadata": {},
   "outputs": [],
   "source": [
    "# Over-sampling\n",
    "ros = RandomOverSampler(random_state=0)\n",
    "X_resampled, y_resampled = ros.fit_sample(X_train,y_train)"
   ]
  },
  {
   "cell_type": "code",
   "execution_count": 21,
   "metadata": {},
   "outputs": [
    {
     "data": {
      "text/plain": [
       "Counter({0: 14702, 1: 14702})"
      ]
     },
     "execution_count": 21,
     "metadata": {},
     "output_type": "execute_result"
    }
   ],
   "source": [
    "Counter(y_resampled)"
   ]
  },
  {
   "cell_type": "code",
   "execution_count": 22,
   "metadata": {
    "collapsed": true
   },
   "outputs": [
    {
     "name": "stderr",
     "output_type": "stream",
     "text": [
      "/home/kmussar/anaconda3/lib/python3.6/site-packages/sklearn/linear_model/logistic.py:433: FutureWarning: Default solver will be changed to 'lbfgs' in 0.22. Specify a solver to silence this warning.\n",
      "  FutureWarning)\n"
     ]
    }
   ],
   "source": [
    "# Logistic Regression on over-sampled data\n",
    "logmodel_over = LogisticRegression()\n",
    "logmodel_over.fit(X_train,y_train)\n",
    "log_predictions_over = logmodel_over.predict(X_val)"
   ]
  },
  {
   "cell_type": "code",
   "execution_count": 23,
   "metadata": {},
   "outputs": [
    {
     "name": "stdout",
     "output_type": "stream",
     "text": [
      "              precision    recall  f1-score   support\n",
      "\n",
      "           0       0.87      0.91      0.89      3676\n",
      "           1       0.65      0.56      0.60      1124\n",
      "\n",
      "   micro avg       0.82      0.82      0.82      4800\n",
      "   macro avg       0.76      0.73      0.74      4800\n",
      "weighted avg       0.82      0.82      0.82      4800\n",
      "\n",
      "[[3333  343]\n",
      " [ 497  627]]\n"
     ]
    }
   ],
   "source": [
    "print(classification_report(y_val,log_predictions_over))\n",
    "print(confusion_matrix(y_val,log_predictions_over))"
   ]
  },
  {
   "cell_type": "code",
   "execution_count": null,
   "metadata": {},
   "outputs": [],
   "source": []
  }
 ],
 "metadata": {
  "kernelspec": {
   "display_name": "Python 3",
   "language": "python",
   "name": "python3"
  },
  "language_info": {
   "codemirror_mode": {
    "name": "ipython",
    "version": 3
   },
   "file_extension": ".py",
   "mimetype": "text/x-python",
   "name": "python",
   "nbconvert_exporter": "python",
   "pygments_lexer": "ipython3",
   "version": "3.6.6"
  }
 },
 "nbformat": 4,
 "nbformat_minor": 2
}
