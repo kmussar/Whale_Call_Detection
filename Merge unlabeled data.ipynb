{
 "cells": [
  {
   "cell_type": "code",
   "execution_count": 2,
   "metadata": {},
   "outputs": [],
   "source": [
    "import pickle\n",
    "import pandas as pd\n",
    "import numpy as np"
   ]
  },
  {
   "cell_type": "code",
   "execution_count": 3,
   "metadata": {
    "scrolled": true
   },
   "outputs": [
    {
     "name": "stdout",
     "output_type": "stream",
     "text": [
      "<class 'pandas.core.frame.DataFrame'>\n",
      "Int64Index: 4999 entries, 0 to 4998\n",
      "Data columns (total 30 columns):\n",
      "centroid              4999 non-null object\n",
      "chroma                4999 non-null object\n",
      "chroma_cens           4999 non-null object\n",
      "chroma_cqt            4999 non-null object\n",
      "contrast              4999 non-null object\n",
      "flatness              4999 non-null object\n",
      "index                 4999 non-null object\n",
      "mean_centroid         4999 non-null float64\n",
      "mean_chroma           4999 non-null float64\n",
      "mean_chroma_cens      4999 non-null float64\n",
      "mean_chroma_cqt       4999 non-null float64\n",
      "mean_contrast         4999 non-null float64\n",
      "mean_flatness         4999 non-null float64\n",
      "mean_mel              4999 non-null float64\n",
      "mean_mfccs            4999 non-null float64\n",
      "mean_rolloff          4999 non-null float64\n",
      "mean_spec_bw          4999 non-null float64\n",
      "mean_spec_contrast    4999 non-null float64\n",
      "mean_tonnetz          4999 non-null float64\n",
      "mean_zero_cr          4999 non-null float64\n",
      "mel                   4999 non-null object\n",
      "mfccs                 4999 non-null object\n",
      "rolloff               4999 non-null object\n",
      "spec_bw               4999 non-null object\n",
      "spec_contrast         4999 non-null object\n",
      "tonnetz               4999 non-null object\n",
      "zero_cr               4999 non-null object\n",
      "file_number           4999 non-null object\n",
      "mean_rmse             4999 non-null float64\n",
      "rmse                  4999 non-null object\n",
      "dtypes: float64(14), object(16)\n",
      "memory usage: 1.2+ MB\n"
     ]
    }
   ],
   "source": [
    "with open('updated_rmse_raw_1_4999.pickle', 'rb') as read_file:\n",
    "    df1 = pickle.load(read_file)\n",
    "df1.info()"
   ]
  },
  {
   "cell_type": "code",
   "execution_count": 4,
   "metadata": {
    "collapsed": true
   },
   "outputs": [
    {
     "name": "stdout",
     "output_type": "stream",
     "text": [
      "<class 'pandas.core.frame.DataFrame'>\n",
      "RangeIndex: 5000 entries, 0 to 4999\n",
      "Data columns (total 29 columns):\n",
      "centroid              5000 non-null object\n",
      "chroma                5000 non-null object\n",
      "chroma_cens           5000 non-null object\n",
      "chroma_cqt            5000 non-null object\n",
      "contrast              5000 non-null object\n",
      "flatness              5000 non-null object\n",
      "index                 5000 non-null object\n",
      "mean_centroid         5000 non-null float64\n",
      "mean_chroma           5000 non-null float64\n",
      "mean_chroma_cens      5000 non-null float64\n",
      "mean_chroma_cqt       5000 non-null float64\n",
      "mean_contrast         5000 non-null float64\n",
      "mean_flatness         5000 non-null float64\n",
      "mean_mel              5000 non-null float64\n",
      "mean_mfccs            5000 non-null float64\n",
      "mean_rmse             5000 non-null float64\n",
      "mean_rolloff          5000 non-null float64\n",
      "mean_spec_bw          5000 non-null float64\n",
      "mean_spec_contrast    5000 non-null float64\n",
      "mean_tonnetz          5000 non-null float64\n",
      "mean_zero_cr          5000 non-null float64\n",
      "mel                   5000 non-null object\n",
      "mfccs                 5000 non-null object\n",
      "rmse                  5000 non-null object\n",
      "rolloff               5000 non-null object\n",
      "spec_bw               5000 non-null object\n",
      "spec_contrast         5000 non-null object\n",
      "tonnetz               5000 non-null object\n",
      "zero_cr               5000 non-null object\n",
      "dtypes: float64(14), object(15)\n",
      "memory usage: 1.1+ MB\n"
     ]
    }
   ],
   "source": [
    "with open('data_5000_9999.pickle', 'rb') as read_file:\n",
    "    df2= pickle.load(read_file)\n",
    "df2.info()"
   ]
  },
  {
   "cell_type": "code",
   "execution_count": 5,
   "metadata": {},
   "outputs": [],
   "source": [
    "with open('data_10000_14999.pickle', 'rb') as read_file:\n",
    "    df3= pickle.load(read_file)\n",
    "#df3.info()"
   ]
  },
  {
   "cell_type": "code",
   "execution_count": 6,
   "metadata": {},
   "outputs": [],
   "source": [
    "with open('data_15000_19999.pickle', 'rb') as read_file:\n",
    "    df4= pickle.load(read_file)\n",
    "#df4.info()"
   ]
  },
  {
   "cell_type": "code",
   "execution_count": 7,
   "metadata": {},
   "outputs": [],
   "source": [
    "with open('data_20000_24999.pickle', 'rb') as read_file:\n",
    "    df5= pickle.load(read_file)\n",
    "#df5.info()"
   ]
  },
  {
   "cell_type": "code",
   "execution_count": 8,
   "metadata": {},
   "outputs": [],
   "source": [
    "with open('data_25000_30000.pickle', 'rb') as read_file:\n",
    "    df6= pickle.load(read_file)\n",
    "#df6.info()"
   ]
  },
  {
   "cell_type": "code",
   "execution_count": 9,
   "metadata": {},
   "outputs": [],
   "source": [
    "with open('missing_files.pickle', 'rb') as read_file:\n",
    "    df7= pickle.load(read_file)\n",
    "#df7.info()"
   ]
  },
  {
   "cell_type": "code",
   "execution_count": 10,
   "metadata": {
    "scrolled": true
   },
   "outputs": [],
   "source": [
    "df_all = pd.concat([df1,df2,df3,df4,df5,df6,df7],sort=True)"
   ]
  },
  {
   "cell_type": "code",
   "execution_count": 11,
   "metadata": {},
   "outputs": [
    {
     "name": "stdout",
     "output_type": "stream",
     "text": [
      "<class 'pandas.core.frame.DataFrame'>\n",
      "Int64Index: 30000 entries, 0 to 2\n",
      "Data columns (total 30 columns):\n",
      "centroid              30000 non-null object\n",
      "chroma                30000 non-null object\n",
      "chroma_cens           30000 non-null object\n",
      "chroma_cqt            30000 non-null object\n",
      "contrast              30000 non-null object\n",
      "file_number           4999 non-null object\n",
      "flatness              30000 non-null object\n",
      "index                 30000 non-null object\n",
      "mean_centroid         30000 non-null float64\n",
      "mean_chroma           30000 non-null float64\n",
      "mean_chroma_cens      30000 non-null float64\n",
      "mean_chroma_cqt       30000 non-null float64\n",
      "mean_contrast         30000 non-null float64\n",
      "mean_flatness         30000 non-null float64\n",
      "mean_mel              30000 non-null float64\n",
      "mean_mfccs            30000 non-null float64\n",
      "mean_rmse             30000 non-null float64\n",
      "mean_rolloff          30000 non-null float64\n",
      "mean_spec_bw          30000 non-null float64\n",
      "mean_spec_contrast    30000 non-null float64\n",
      "mean_tonnetz          30000 non-null float64\n",
      "mean_zero_cr          30000 non-null float64\n",
      "mel                   30000 non-null object\n",
      "mfccs                 30000 non-null object\n",
      "rmse                  30000 non-null object\n",
      "rolloff               30000 non-null object\n",
      "spec_bw               30000 non-null object\n",
      "spec_contrast         30000 non-null object\n",
      "tonnetz               30000 non-null object\n",
      "zero_cr               30000 non-null object\n",
      "dtypes: float64(14), object(16)\n",
      "memory usage: 7.1+ MB\n"
     ]
    }
   ],
   "source": [
    "df_all.info()"
   ]
  },
  {
   "cell_type": "markdown",
   "metadata": {},
   "source": [
    "## Save pickle"
   ]
  },
  {
   "cell_type": "code",
   "execution_count": null,
   "metadata": {},
   "outputs": [],
   "source": [
    "with open('complete_data_unlabeled.pickle', 'wb') as to_write:\n",
    "    pickle.dump(df_all, to_write) "
   ]
  },
  {
   "cell_type": "code",
   "execution_count": 17,
   "metadata": {},
   "outputs": [],
   "source": [
    "df_all.to_csv('complete_data_unlabeled.csv')"
   ]
  }
 ],
 "metadata": {
  "kernelspec": {
   "display_name": "Python 3",
   "language": "python",
   "name": "python3"
  },
  "language_info": {
   "codemirror_mode": {
    "name": "ipython",
    "version": 3
   },
   "file_extension": ".py",
   "mimetype": "text/x-python",
   "name": "python",
   "nbconvert_exporter": "python",
   "pygments_lexer": "ipython3",
   "version": "3.6.6"
  }
 },
 "nbformat": 4,
 "nbformat_minor": 2
}
